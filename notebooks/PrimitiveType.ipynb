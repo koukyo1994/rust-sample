{
 "cells": [
  {
   "cell_type": "markdown",
   "metadata": {},
   "source": [
    "## Unit type"
   ]
  },
  {
   "cell_type": "markdown",
   "metadata": {},
   "source": [
    "関数の返り値などに使われるよ。"
   ]
  },
  {
   "cell_type": "code",
   "execution_count": 3,
   "metadata": {},
   "outputs": [
    {
     "name": "stdout",
     "output_type": "stream",
     "text": [
      "Hello\n"
     ]
    }
   ],
   "source": [
    "fn hello() {\n",
    "    println!(\"Hello\");\n",
    "}\n",
    "\n",
    "let ret = hello();\n",
    "\n",
    "assert_eq!(ret, ());"
   ]
  },
  {
   "cell_type": "markdown",
   "metadata": {},
   "source": [
    "サイズは0だよ。"
   ]
  },
  {
   "cell_type": "code",
   "execution_count": 6,
   "metadata": {},
   "outputs": [
    {
     "data": {
      "text/plain": [
       "0"
      ]
     },
     "execution_count": 6,
     "metadata": {},
     "output_type": "execute_result"
    }
   ],
   "source": [
    "std::mem::size_of::<()>()"
   ]
  },
  {
   "cell_type": "markdown",
   "metadata": {},
   "source": [
    "ちなみにサイズはこうやって測れるよ。"
   ]
  },
  {
   "cell_type": "code",
   "execution_count": 7,
   "metadata": {},
   "outputs": [
    {
     "data": {
      "text/plain": [
       "4"
      ]
     },
     "execution_count": 7,
     "metadata": {},
     "output_type": "execute_result"
    }
   ],
   "source": [
    "std::mem::size_of::<i32>()"
   ]
  },
  {
   "cell_type": "markdown",
   "metadata": {},
   "source": [
    "## Bool type"
   ]
  },
  {
   "cell_type": "code",
   "execution_count": 8,
   "metadata": {},
   "outputs": [
    {
     "data": {
      "text/plain": [
       "false"
      ]
     },
     "execution_count": 8,
     "metadata": {},
     "output_type": "execute_result"
    }
   ],
   "source": [
    "let b1 = true;\n",
    "let b2 = !b1;\n",
    "\n",
    "b2"
   ]
  },
  {
   "cell_type": "code",
   "execution_count": 11,
   "metadata": {},
   "outputs": [
    {
     "name": "stdout",
     "output_type": "stream",
     "text": [
      "false true false true\n"
     ]
    }
   ],
   "source": [
    "let n1 = 8;\n",
    "let n2 = 12;\n",
    "let b3 = n1 >= 10;\n",
    "let b4 = n2 >= 10;\n",
    "let b5 = b3 && b4;\n",
    "let b6 = b3 || b4;\n",
    "\n",
    "println!(\"{} {} {} {}\", b3, b4, b5, b6);"
   ]
  },
  {
   "cell_type": "markdown",
   "metadata": {},
   "source": [
    "## Integer"
   ]
  },
  {
   "cell_type": "code",
   "execution_count": 14,
   "metadata": {},
   "outputs": [
    {
     "name": "stdout",
     "output_type": "stream",
     "text": [
      "255 484 42729\n"
     ]
    }
   ],
   "source": [
    "let h1 = 0xff;\n",
    "let o1 = 0o744;\n",
    "let b1 = 0b1010_0110_1110_1001;\n",
    "\n",
    "println!(\"{} {} {}\", h1, o1, b1);"
   ]
  },
  {
   "cell_type": "code",
   "execution_count": 16,
   "metadata": {},
   "outputs": [
    {
     "data": {
      "text/plain": [
       "true"
      ]
     },
     "execution_count": 16,
     "metadata": {},
     "output_type": "execute_result"
    }
   ],
   "source": [
    "b' ' == 32u8"
   ]
  },
  {
   "cell_type": "markdown",
   "metadata": {},
   "source": [
    "## Char"
   ]
  },
  {
   "cell_type": "code",
   "execution_count": 17,
   "metadata": {},
   "outputs": [
    {
     "data": {
      "text/plain": [
       "true"
      ]
     },
     "execution_count": 17,
     "metadata": {},
     "output_type": "execute_result"
    }
   ],
   "source": [
    "let c1 = 'A';\n",
    "let c2 = 'a';\n",
    "\n",
    "c1 < c2"
   ]
  },
  {
   "cell_type": "code",
   "execution_count": 18,
   "metadata": {},
   "outputs": [
    {
     "data": {
      "text/plain": [
       "true"
      ]
     },
     "execution_count": 18,
     "metadata": {},
     "output_type": "execute_result"
    }
   ],
   "source": [
    "c1.is_uppercase()"
   ]
  },
  {
   "cell_type": "code",
   "execution_count": 23,
   "metadata": {},
   "outputs": [
    {
     "data": {
      "text/plain": [
       "false"
      ]
     },
     "execution_count": 23,
     "metadata": {},
     "output_type": "execute_result"
    }
   ],
   "source": [
    "let c3 = '7';\n",
    "c3.is_digit(2)"
   ]
  },
  {
   "cell_type": "code",
   "execution_count": 25,
   "metadata": {},
   "outputs": [
    {
     "name": "stdout",
     "output_type": "stream",
     "text": [
      "漢字\n"
     ]
    }
   ],
   "source": [
    "let c9 = '漢';\n",
    "\n",
    "let c10 = '\\u{5b57}';\n",
    "\n",
    "println!(\"{}{}\", c9, c10);"
   ]
  },
  {
   "cell_type": "code",
   "execution_count": 26,
   "metadata": {},
   "outputs": [
    {
     "data": {
      "text/plain": [
       "'😀'"
      ]
     },
     "execution_count": 26,
     "metadata": {},
     "output_type": "execute_result"
    }
   ],
   "source": [
    "let c11 = '\\u{1f600}';\n",
    "c11"
   ]
  },
  {
   "cell_type": "markdown",
   "metadata": {},
   "source": [
    "## Reference"
   ]
  },
  {
   "cell_type": "code",
   "execution_count": 36,
   "metadata": {},
   "outputs": [
    {
     "name": "stdout",
     "output_type": "stream",
     "text": [
      "f1:   n = 1\n",
      "f2:   n_ptr = 0x7ffee96381c0\n",
      "f2:   *n_ptr = 0\n",
      "f2: *n_ptr = 2\n"
     ]
    }
   ],
   "source": [
    "fn f1(mut n: u32) {\n",
    "    n = 1;\n",
    "    println!(\"f1:   n = {}\", n);\n",
    "}\n",
    "\n",
    "fn f2(n_ptr: &mut u32) {\n",
    "    println!(\"f2:   n_ptr = {:p}\", n_ptr);\n",
    "    println!(\"f2:   *n_ptr = {}\", n_ptr);\n",
    "    \n",
    "    *n_ptr = 2;\n",
    "    println!(\"f2: *n_ptr = {}\", *n_ptr);\n",
    "}\n",
    "\n",
    "let mut n = 0;\n",
    "f1(n);\n",
    "f2(&mut n);"
   ]
  },
  {
   "cell_type": "code",
   "execution_count": 38,
   "metadata": {},
   "outputs": [
    {
     "data": {
      "text/plain": [
       "true"
      ]
     },
     "execution_count": 38,
     "metadata": {},
     "output_type": "execute_result"
    }
   ],
   "source": [
    "fn double(n: i32) -> i32 {\n",
    "    n + n\n",
    "}\n",
    "\n",
    "fn abs(n: i32) -> i32 {\n",
    "    if n >= 0 { n } else { -n }\n",
    "}\n",
    "\n",
    "let mut f: fn(i32) -> i32 = double;\n",
    "f(-42) == -84"
   ]
  },
  {
   "cell_type": "code",
   "execution_count": 40,
   "metadata": {},
   "outputs": [
    {
     "data": {
      "text/plain": [
       "true"
      ]
     },
     "execution_count": 40,
     "metadata": {},
     "output_type": "execute_result"
    }
   ],
   "source": [
    "f = abs;\n",
    "f(-42) == 42"
   ]
  },
  {
   "cell_type": "code",
   "execution_count": 42,
   "metadata": {},
   "outputs": [
    {
     "name": "stdout",
     "output_type": "stream",
     "text": [
      "42\n"
     ]
    }
   ],
   "source": [
    "fn print_num(n: i32) {\n",
    "    println!(\"{}\", n);\n",
    "}\n",
    "\n",
    "let mut f2: fn(i32) = print_num;\n",
    "f2(42);"
   ]
  },
  {
   "cell_type": "code",
   "execution_count": 43,
   "metadata": {},
   "outputs": [
    {
     "name": "stdout",
     "output_type": "stream",
     "text": [
      "Something!\n"
     ]
    }
   ],
   "source": [
    "fn do_something() {\n",
    "    println!(\"Something!\");\n",
    "}\n",
    "\n",
    "let f3: fn() = do_something;\n",
    "f3();"
   ]
  },
  {
   "cell_type": "code",
   "execution_count": 44,
   "metadata": {},
   "outputs": [
    {
     "ename": "Error",
     "evalue": "expected `(`, found `=`",
     "output_type": "error",
     "traceback": [
      "let f4: fn = do_something;",
      "\u001b[91m           ^\u001b[0m \u001b[94mexpected `(`\u001b[0m",
      "let f4: fn = do_something;",
      "\u001b[91m    ^^\u001b[0m \u001b[94mwhile parsing the type for `f4`\u001b[0m",
      "expected `(`, found `=`"
     ]
    }
   ],
   "source": [
    "let f4: fn = do_something;\n",
    "f4();"
   ]
  },
  {
   "cell_type": "code",
   "execution_count": 8,
   "metadata": {},
   "outputs": [
    {
     "ename": "Error",
     "evalue": "mismatched types",
     "output_type": "error",
     "traceback": [
      "let mut flipflop: fn() -> bool = || {",
      "    state = !state;",
      "    state",
      "};",
      "\u001b[91m                                 \u001b[0m \u001b[94mexpected fn pointer, found closure\u001b[0m",
      "let mut flipflop: fn() -> bool = || {",
      "\u001b[91m                  ^^^^^^^^^^^^\u001b[0m \u001b[94mexpected due to this\u001b[0m",
      "mismatched types"
     ]
    }
   ],
   "source": [
    "let mut state = false;\n",
    "\n",
    "let mut flipflop: fn() -> bool = || {\n",
    "    state = !state;\n",
    "    state\n",
    "};\n",
    "\n",
    "assert!(flipflop());"
   ]
  },
  {
   "cell_type": "markdown",
   "metadata": {},
   "source": [
    "## Tuple"
   ]
  },
  {
   "cell_type": "code",
   "execution_count": 9,
   "metadata": {},
   "outputs": [
    {
     "data": {
      "text/plain": [
       "88"
      ]
     },
     "execution_count": 9,
     "metadata": {},
     "output_type": "execute_result"
    }
   ],
   "source": [
    "let mut t1 = (88, true);\n",
    "\n",
    "t1.0"
   ]
  },
  {
   "cell_type": "code",
   "execution_count": 11,
   "metadata": {},
   "outputs": [
    {
     "data": {
      "text/plain": [
       "(88, false)"
      ]
     },
     "execution_count": 11,
     "metadata": {},
     "output_type": "execute_result"
    }
   ],
   "source": [
    "t1.1 = false;\n",
    "t1"
   ]
  },
  {
   "cell_type": "code",
   "execution_count": 12,
   "metadata": {},
   "outputs": [
    {
     "ename": "Error",
     "evalue": "mismatched types",
     "output_type": "error",
     "traceback": [
      "t1 = (12, 24, false);",
      "\u001b[91m          ^^\u001b[0m \u001b[94mexpected `bool`, found integer\u001b[0m",
      "mismatched types"
     ]
    },
    {
     "ename": "Error",
     "evalue": "mismatched types",
     "output_type": "error",
     "traceback": [
      "t1 = (12, 24, false);",
      "\u001b[91m     ^^^^^^^^^^^^^^^\u001b[0m \u001b[94mexpected a tuple with 2 elements, found one with 3 elements\u001b[0m",
      "mismatched types"
     ]
    }
   ],
   "source": [
    "t1 = (12, 24, false);\n",
    "t1"
   ]
  },
  {
   "cell_type": "code",
   "execution_count": 13,
   "metadata": {},
   "outputs": [
    {
     "data": {
      "text/plain": [
       "(12, false)"
      ]
     },
     "execution_count": 13,
     "metadata": {},
     "output_type": "execute_result"
    }
   ],
   "source": [
    "t1 = (12, false);\n",
    "t1"
   ]
  },
  {
   "cell_type": "code",
   "execution_count": 15,
   "metadata": {},
   "outputs": [
    {
     "name": "stdout",
     "output_type": "stream",
     "text": [
      "88 false 0 5 10 -1\n"
     ]
    }
   ],
   "source": [
    "let (n1, b1) = (88, false);\n",
    "let ((x1, y1), (x2, y2)) = ((0, 5), (10, -1));\n",
    "\n",
    "println!(\"{} {} {} {} {} {}\", n1, b1, x1, y1, x2, y2);"
   ]
  },
  {
   "cell_type": "markdown",
   "metadata": {},
   "source": [
    "## Array"
   ]
  },
  {
   "cell_type": "code",
   "execution_count": 17,
   "metadata": {},
   "outputs": [
    {
     "data": {
      "text/plain": [
       "4"
      ]
     },
     "execution_count": 17,
     "metadata": {},
     "output_type": "execute_result"
    }
   ],
   "source": [
    "let a1 = [false, true, false];\n",
    "let a2 = [0.0, -1.0, 1.0, 0.5];\n",
    "\n",
    "a2.len()"
   ]
  },
  {
   "cell_type": "code",
   "execution_count": 18,
   "metadata": {},
   "outputs": [
    {
     "data": {
      "text/plain": [
       "[0, 0, 0, 0, 0, 0, 0, 0, 0, 0, 0, 0, 0, 0, 0, 0, 0, 0, 0, 0, 0, 0, 0, 0, 0, 0, 0, 0, 0, 0, 0, 0, 0, 0, 0, 0, 0, 0, 0, 0, 0, 0, 0, 0, 0, 0, 0, 0, 0, 0, 0, 0, 0, 0, 0, 0, 0, 0, 0, 0, 0, 0, 0, 0, 0, 0, 0, 0, 0, 0, 0, 0, 0, 0, 0, 0, 0, 0, 0, 0, 0, 0, 0, 0, 0, 0, 0, 0, 0, 0, 0, 0, 0, 0, 0, 0, 0, 0, 0, 0]"
      ]
     },
     "execution_count": 18,
     "metadata": {},
     "output_type": "execute_result"
    }
   ],
   "source": [
    "let a3 = [0; 100];\n",
    "a3"
   ]
  },
  {
   "cell_type": "code",
   "execution_count": 23,
   "metadata": {},
   "outputs": [
    {
     "data": {
      "text/plain": [
       "[[1, 1, 2], [2, 2, 3]]"
      ]
     },
     "execution_count": 23,
     "metadata": {},
     "output_type": "execute_result"
    }
   ],
   "source": [
    "let mut a4 = [[1, 1, 2], [2, 2, 3]];\n",
    "a4"
   ]
  },
  {
   "cell_type": "code",
   "execution_count": 25,
   "metadata": {},
   "outputs": [
    {
     "data": {
      "text/plain": [
       "[[2, 2, 2], [2, 2, 3]]"
      ]
     },
     "execution_count": 25,
     "metadata": {},
     "output_type": "execute_result"
    }
   ],
   "source": [
    "a4[0] = [2; 3];\n",
    "a4"
   ]
  },
  {
   "cell_type": "code",
   "execution_count": 27,
   "metadata": {},
   "outputs": [
    {
     "data": {
      "text/plain": [
       "2"
      ]
     },
     "execution_count": 27,
     "metadata": {},
     "output_type": "execute_result"
    }
   ],
   "source": [
    "a4[0][0]"
   ]
  },
  {
   "cell_type": "code",
   "execution_count": 29,
   "metadata": {},
   "outputs": [
    {
     "data": {
      "text/plain": [
       "[[3, 3], [3, 3], [3, 3]]"
      ]
     },
     "execution_count": 29,
     "metadata": {},
     "output_type": "execute_result"
    }
   ],
   "source": [
    "let a5 = [[3; 2];3];\n",
    "a5"
   ]
  },
  {
   "cell_type": "code",
   "execution_count": 32,
   "metadata": {},
   "outputs": [
    {
     "data": {
      "text/plain": [
       "[[2, 2, 2], [3, 3, 3]]"
      ]
     },
     "execution_count": 32,
     "metadata": {},
     "output_type": "execute_result"
    }
   ],
   "source": [
    "let a6 = [[2;3], [3;3]];\n",
    "a6"
   ]
  },
  {
   "cell_type": "code",
   "execution_count": 35,
   "metadata": {},
   "outputs": [
    {
     "name": "stdout",
     "output_type": "stream",
     "text": [
      "[2, 2, 2]\n",
      "[3, 3, 3]\n"
     ]
    }
   ],
   "source": [
    "let mut index = 0;\n",
    "println!(\"{:?}\", a6[index]);\n",
    "index += 1;\n",
    "println!(\"{:?}\", a6[index]);"
   ]
  },
  {
   "cell_type": "code",
   "execution_count": 37,
   "metadata": {},
   "outputs": [
    {
     "data": {
      "text/plain": [
       "Some([3, 3, 3])"
      ]
     },
     "execution_count": 37,
     "metadata": {},
     "output_type": "execute_result"
    }
   ],
   "source": [
    "a6.get(1)"
   ]
  },
  {
   "cell_type": "code",
   "execution_count": 38,
   "metadata": {},
   "outputs": [
    {
     "data": {
      "text/plain": [
       "None"
      ]
     },
     "execution_count": 38,
     "metadata": {},
     "output_type": "execute_result"
    }
   ],
   "source": [
    "a6.get(3)"
   ]
  },
  {
   "cell_type": "code",
   "execution_count": 45,
   "metadata": {},
   "outputs": [
    {
     "data": {
      "text/plain": [
       "[2, 2, 2, 2, 2, 2, 2, 2, 2, 2, 2, 2, 2, 2, 2, 2, 2, 2, 2, 2, 2, 2, 2, 2, 2, 2, 2, 2, 2, 2, 2, 2, 2, 2, 2, 2, 2, 2, 2, 2, 2, 2, 2, 2, 2, 2, 2, 2, 2, 2]"
      ]
     },
     "execution_count": 45,
     "metadata": {},
     "output_type": "execute_result"
    }
   ],
   "source": [
    "let array4 = ['a'; 50];\n",
    "for ch in array4.iter() {\n",
    "    print!(\"{},\", *ch);\n",
    "};\n",
    "\n",
    "let mut array5 = [1; 50];\n",
    "for n in array5.iter_mut() {\n",
    "    *n *= 2;\n",
    "};\n",
    "\n",
    "array5"
   ]
  },
  {
   "cell_type": "markdown",
   "metadata": {},
   "source": [
    "## Slice"
   ]
  },
  {
   "cell_type": "code",
   "execution_count": 5,
   "metadata": {},
   "outputs": [
    {
     "name": "stdout",
     "output_type": "stream",
     "text": [
      "&a1[..]   - 4, Some('a'), b, Some('d')\n"
     ]
    },
    {
     "data": {
      "text/plain": [
       "()"
      ]
     },
     "execution_count": 5,
     "metadata": {},
     "output_type": "execute_result"
    }
   ],
   "source": [
    "fn print_info(name: &str, sl: &[char]) {\n",
    "    println!(\"{:9} - {}, {:?}, {:}, {:?}\",\n",
    "        name,\n",
    "        sl.len(),\n",
    "        sl.first(),\n",
    "        sl[1],\n",
    "        sl.last());\n",
    "}\n",
    "\n",
    "let a1 = ['a', 'b', 'c', 'd'];\n",
    "print_info(\"&a1[..]\", &a1[..])"
   ]
  },
  {
   "cell_type": "code",
   "execution_count": 6,
   "metadata": {},
   "outputs": [
    {
     "name": "stdout",
     "output_type": "stream",
     "text": [
      "&a1[1..3] - 2, Some('b'), c, Some('c')\n"
     ]
    }
   ],
   "source": [
    "print_info(\"&a1[1..3]\", &a1[1..3]);"
   ]
  },
  {
   "cell_type": "code",
   "execution_count": 7,
   "metadata": {},
   "outputs": [
    {
     "data": {
      "text/plain": [
       "['b', 'c', 'd']"
      ]
     },
     "execution_count": 7,
     "metadata": {},
     "output_type": "execute_result"
    }
   ],
   "source": [
    "&a1[1..=3]"
   ]
  },
  {
   "cell_type": "code",
   "execution_count": 3,
   "metadata": {},
   "outputs": [
    {
     "data": {
      "text/plain": [
       "[5, 30, 6, 2]"
      ]
     },
     "execution_count": 3,
     "metadata": {},
     "output_type": "execute_result"
    }
   ],
   "source": [
    "{\n",
    "    let mut aa2 = [5, 4, 3, 2];\n",
    "\n",
    "    let s2 = &mut aa2[1..3];\n",
    "\n",
    "    s2[0] = 6;\n",
    "    s2[1] *= 10;\n",
    "    s2.swap(0, 1);\n",
    "\n",
    "    aa2\n",
    "}"
   ]
  },
  {
   "cell_type": "code",
   "execution_count": 7,
   "metadata": {},
   "outputs": [
    {
     "data": {
      "text/plain": [
       "true"
      ]
     },
     "execution_count": 7,
     "metadata": {},
     "output_type": "execute_result"
    }
   ],
   "source": [
    "{\n",
    "    let mut aa2 = [5, 4, 3, 2];\n",
    "\n",
    "    let s2 = &mut aa2[1..3];\n",
    "\n",
    "    s2.contains(&3)\n",
    "}"
   ]
  },
  {
   "cell_type": "code",
   "execution_count": null,
   "metadata": {},
   "outputs": [],
   "source": []
  }
 ],
 "metadata": {
  "kernelspec": {
   "display_name": "Rust",
   "language": "rust",
   "name": "rust"
  },
  "language_info": {
   "codemirror_mode": "rust",
   "file_extension": ".rs",
   "mimetype": "text/rust",
   "name": "Rust",
   "pygment_lexer": "rust",
   "version": ""
  }
 },
 "nbformat": 4,
 "nbformat_minor": 4
}
